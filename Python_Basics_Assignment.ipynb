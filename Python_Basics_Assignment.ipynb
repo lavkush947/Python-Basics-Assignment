{
  "nbformat": 4,
  "nbformat_minor": 0,
  "metadata": {
    "colab": {
      "provenance": []
    },
    "kernelspec": {
      "name": "python3",
      "display_name": "Python 3"
    },
    "language_info": {
      "name": "python"
    }
  },
  "cells": [
    {
      "cell_type": "markdown",
      "source": [
        "#Python Basics Assignment"
      ],
      "metadata": {
        "id": "OXlTErckfX5W"
      }
    },
    {
      "cell_type": "markdown",
      "source": [
        " **Theory questions:**\n",
        "1. What is Python, and why is it popular?\n",
        "\n",
        "   Python is a high-level, interpreted programming language known for its simplicity, readability, and versatility. Its popular due to its:\n",
        "\n",
        "    * Easy-to-read syntax\n",
        "\n",
        "    * Large community and libraries\n",
        "\n",
        "    * Applications in web development, data science, AI, and automation.\n",
        "\n",
        "\n",
        "2. What is an interpreter in Python?\n",
        "\n",
        "  - An interpreter is a program that executes Python code line by line. Python uses an interpreter instead of a compiler, allowing easier debugging and dynamic execution.\n",
        "\n",
        "\n",
        "3. What are pre-defined keywords in Python?\n",
        "\n",
        "  - Keywords are reserved words that have special meaning in Python (e.g., if, for, True, None). You cannot use them for variable names.\n",
        "\n",
        "\n",
        "4. Can keywords be used as variable names?\n",
        "\n",
        " - No, keywords cannot be used as variable names. Example:\n",
        " - for example:\n",
        "          if = 5  #SyntaxError\n",
        "\n",
        "\n",
        "\n",
        "5. What is mutability in Python?\n",
        "\n",
        "  - Mutability refers to whether an objects value can change after it's created.\n",
        "\n",
        "    Mutable: Can be changed (e.g., lists).\n",
        "\n",
        "    Immutable: Cannot be changed (e.g., strings, tuples).\n",
        "\n",
        "\n",
        "6. Why are lists mutable, but tuples are immutable?\n",
        "\n",
        "  - Lists are designed for dynamic data, so they support change. Tuples are used for fixed, unchangeable data. Immutability makes tuples faster and safer for hash-based operations (e.g., dictionary keys).\n",
        "\n",
        "\n",
        "7. What is the difference between == and is operators in Python?\n",
        "\n",
        " - == compares values (e.g., a == b)\n",
        "\n",
        "   is compares object identity (e.g., a is b) — true only if both refer to the same memory location\n",
        "\n",
        "\n",
        "8. What are logical operators in Python?\n",
        "\n",
        "   Logical operators are used to combine conditional statements:\n",
        "\n",
        "  - and: True if both conditions are true\n",
        "\n",
        "  - or: True if at least one condition is true\n",
        "\n",
        "  - not: Reverses the condition (True becomes False)\n",
        "\n",
        "\n",
        "9. What is type casting in Python?\n",
        "\n",
        "   Type casting converts one data type into another.\n",
        "\n",
        "   Example:\n",
        "\n",
        "    int(\"5\")   # Converts string to integer\n",
        "\n",
        "    float(4)   # Converts integer to float\n",
        "\n",
        "\n",
        "10. What is the difference between implicit and explicit type casting?\n",
        "\n",
        "  - Implicit: Done automatically by Python (e.g., int + float = float)\n",
        "\n",
        "  - Explicit: Manually done using functions like int(), str(), float()\n",
        "\n",
        "11. What is the purpose of conditional statements in Python?\n",
        "\n",
        "   Conditional statements let your program make decisions based on conditions, controlling which blocks of code run.\n",
        "   \n",
        "  - example of conditional statements are:\n",
        "\n",
        "          if, elif, and else\n",
        "\n",
        "12. How does the elif statement work?\n",
        "\n",
        "   elif (else-if) checks multiple conditions. If one if condition is false, elif is checked next.\n",
        "\n",
        "   Example:\n",
        "\n",
        "\n",
        "  if x > 0:\n",
        "\n",
        "    print(\"Positive\")\n",
        "\n",
        "  elif x == 0:\n",
        "\n",
        "    print(\"Zero\")\n",
        "\n",
        "  else:\n",
        "\n",
        "    print(\"Negative\")\n",
        "\n",
        "13. What is the difference between for and while loops?\n",
        "\n",
        "  - for: Used when the number of iterations is known (e.g., for i in range(5))\n",
        "\n",
        "  - while: Used when the condition is dynamic and not based on a fixed count\n",
        "\n",
        "14. Describe a scenario where a while loop is more suitable than a for loop.\n",
        "\n",
        "   Scenario: Keep asking for a password until the correct one is entered:\n",
        "\n",
        "\n",
        "    password = \"\"\n",
        "    while password != \"admin123\":\n",
        "        password = input(\"Enter password: \")"
      ],
      "metadata": {
        "id": "JGuOYzDgffb_"
      }
    },
    {
      "cell_type": "markdown",
      "source": [
        "**Practical Questions:**"
      ],
      "metadata": {
        "id": "124HexT2wqKv"
      }
    },
    {
      "cell_type": "code",
      "source": [
        "#ques 1. Write a Python program to print \"Hello, World!\"\n",
        "\n",
        "print(\"Hello, World!\")\n"
      ],
      "metadata": {
        "colab": {
          "base_uri": "https://localhost:8080/"
        },
        "id": "LXD-GUk6feD2",
        "outputId": "74a11f13-426e-4f74-c257-a51ce51a3377"
      },
      "execution_count": 2,
      "outputs": [
        {
          "output_type": "stream",
          "name": "stdout",
          "text": [
            "Hello, World!\n"
          ]
        }
      ]
    },
    {
      "cell_type": "code",
      "source": [
        "'''ques 2. Write a Python program that displays your name and age'''\n",
        "\n",
        "name = \"lavkush\"\n",
        "age = 22\n",
        "print(\"Name:\", name)\n",
        "print(\"Age:\", age)"
      ],
      "metadata": {
        "colab": {
          "base_uri": "https://localhost:8080/"
        },
        "id": "OWssi785-u0n",
        "outputId": "dd1c52b4-2494-4e91-a586-b4c5542e3517"
      },
      "execution_count": 4,
      "outputs": [
        {
          "output_type": "stream",
          "name": "stdout",
          "text": [
            "Name: lavkush\n",
            "Age: 22\n"
          ]
        }
      ]
    },
    {
      "cell_type": "code",
      "source": [
        "'''ques 3. Write code to print all the pre-defined keywords in Python using the keyword library'''\n",
        "\n",
        "import keyword\n",
        "print(\"Python Keywords:\")\n",
        "print(keyword.kwlist)"
      ],
      "metadata": {
        "colab": {
          "base_uri": "https://localhost:8080/"
        },
        "id": "n7Lkknb-_L2O",
        "outputId": "99193aa0-3a32-4a0e-be3e-a9aedd07faf3"
      },
      "execution_count": 5,
      "outputs": [
        {
          "output_type": "stream",
          "name": "stdout",
          "text": [
            "Python Keywords:\n",
            "['False', 'None', 'True', 'and', 'as', 'assert', 'async', 'await', 'break', 'class', 'continue', 'def', 'del', 'elif', 'else', 'except', 'finally', 'for', 'from', 'global', 'if', 'import', 'in', 'is', 'lambda', 'nonlocal', 'not', 'or', 'pass', 'raise', 'return', 'try', 'while', 'with', 'yield']\n"
          ]
        }
      ]
    },
    {
      "cell_type": "code",
      "source": [
        "'''ques 4. Write a program that checks if a given word is a Python keyword'''\n",
        "\n",
        "import keyword\n",
        "\n",
        "word = input(\"Enter a word: \")\n",
        "if keyword.iskeyword(word):\n",
        "    print(f\"'{word}' is a Python keyword.\")\n",
        "else:\n",
        "    print(f\"'{word}' is not a Python keyword.\")"
      ],
      "metadata": {
        "colab": {
          "base_uri": "https://localhost:8080/"
        },
        "id": "aFLGLhVM_Y7h",
        "outputId": "4fb914e3-4ea3-42f9-f639-57799191ca20"
      },
      "execution_count": 7,
      "outputs": [
        {
          "output_type": "stream",
          "name": "stdout",
          "text": [
            "Enter a word: continue\n",
            "'continue' is a Python keyword.\n"
          ]
        }
      ]
    },
    {
      "cell_type": "code",
      "source": [
        "'''ques 5. Write a function to demonstrate the behavior of mutable and immutable arguments'''\n",
        "\n",
        "def modify_data(num, my_list):\n",
        "    num += 5\n",
        "    my_list.append(100)\n",
        "    return num, my_list\n",
        "\n",
        "x = 10\n",
        "lst = [1, 2, 3]\n",
        "\n",
        "x_new, lst_new = modify_data(x, lst)\n",
        "print(\"Original int:\", x) # Immutable\n",
        "print(\"Modified int:\", x_new)\n",
        "print(\"Original list:\", lst) # Mutable\n",
        "print(\"Modified list:\", lst_new)"
      ],
      "metadata": {
        "colab": {
          "base_uri": "https://localhost:8080/"
        },
        "id": "eDMqOgU3_iGJ",
        "outputId": "1316cfe0-f0ba-43e7-c2d8-351816820cd9"
      },
      "execution_count": 8,
      "outputs": [
        {
          "output_type": "stream",
          "name": "stdout",
          "text": [
            "Original int: 10\n",
            "Modified int: 15\n",
            "Original list: [1, 2, 3, 100]\n",
            "Modified list: [1, 2, 3, 100]\n"
          ]
        }
      ]
    },
    {
      "cell_type": "code",
      "source": [
        "'''ques 6. Write a program that performs basic arithmetic operations on two user-input numbers'''\n",
        "\n",
        "a = float(input(\"Enter first number: \"))\n",
        "b = float(input(\"Enter second number: \"))\n",
        "\n",
        "print(\"Addition:\", a + b)\n",
        "print(\"Subtraction:\", a - b)\n",
        "print(\"Multiplication:\", a * b)\n",
        "print(\"Division:\", a / b)\n"
      ],
      "metadata": {
        "colab": {
          "base_uri": "https://localhost:8080/"
        },
        "id": "ll3EWXSS_9Y2",
        "outputId": "d3bffcb7-6dbe-422c-e7bd-4bf5a85f3680"
      },
      "execution_count": 9,
      "outputs": [
        {
          "output_type": "stream",
          "name": "stdout",
          "text": [
            "Enter first number: 5\n",
            "Enter second number: 9\n",
            "Addition: 14.0\n",
            "Subtraction: -4.0\n",
            "Multiplication: 45.0\n",
            "Division: 0.5555555555555556\n"
          ]
        }
      ]
    },
    {
      "cell_type": "code",
      "source": [
        "'''ques 7. Write a program to demonstrate the use of logical operators'''\n",
        "\n",
        "x = int(input(\"Enter a number: \"))\n",
        "print(\"Is x > 0 and x < 100?\", x > 0 and x < 100)\n",
        "print(\"Is x < 0 or x > 100?\", x < 0 or x > 100)\n",
        "print(\"Is x not equal to 50?\", not x == 50)"
      ],
      "metadata": {
        "colab": {
          "base_uri": "https://localhost:8080/"
        },
        "id": "XbZCa6wNAv-3",
        "outputId": "e53a41c9-23cd-4f06-f795-53c093cf2494"
      },
      "execution_count": 10,
      "outputs": [
        {
          "output_type": "stream",
          "name": "stdout",
          "text": [
            "Enter a number: 5\n",
            "Is x > 0 and x < 100? True\n",
            "Is x < 0 or x > 100? False\n",
            "Is x not equal to 50? True\n"
          ]
        }
      ]
    },
    {
      "cell_type": "code",
      "source": [
        "'''ques 8. Create a list and tuple in Python, and demonstrate how attempting to change an element works differently for each'''\n",
        "\n",
        "my_list = [1, 2, 3]\n",
        "my_tuple = (1, 2, 3)\n",
        "\n",
        "my_list[0] = 100  # Works\n",
        "print(\"Modified list:\", my_list)\n",
        "\n",
        "# my_tuple[0] = 100  # TypeError: 'tuple' object does not support item assignment\n",
        "print(\"Tuple cannot be changed:\", my_tuple)"
      ],
      "metadata": {
        "colab": {
          "base_uri": "https://localhost:8080/"
        },
        "id": "PfIF6kh9BCGu",
        "outputId": "d3cbc81d-e0b1-4699-81fe-0a4f477e5e42"
      },
      "execution_count": 11,
      "outputs": [
        {
          "output_type": "stream",
          "name": "stdout",
          "text": [
            "Modified list: [100, 2, 3]\n",
            "Tuple cannot be changed: (1, 2, 3)\n"
          ]
        }
      ]
    },
    {
      "cell_type": "code",
      "source": [
        "'''ques 9. Write a Python program to convert user input from string to integer, float, and boolean types'''\n",
        "\n",
        "value = input(\"Enter a value: \")\n",
        "\n",
        "int_val = int(value)\n",
        "float_val = float(value)\n",
        "bool_val = bool(value)\n",
        "\n",
        "print(\"Integer:\", int_val)\n",
        "print(\"Float:\", float_val)\n",
        "print(\"Boolean:\", bool_val)\n"
      ],
      "metadata": {
        "colab": {
          "base_uri": "https://localhost:8080/"
        },
        "id": "ANQKQiX0Bp0X",
        "outputId": "6785058a-a322-4fe1-a9a6-9c4f510cd3d7"
      },
      "execution_count": 12,
      "outputs": [
        {
          "output_type": "stream",
          "name": "stdout",
          "text": [
            "Enter a value: 8\n",
            "Integer: 8\n",
            "Float: 8.0\n",
            "Boolean: True\n"
          ]
        }
      ]
    },
    {
      "cell_type": "code",
      "source": [
        "'''ques 10. Write code to demonstrate type casting with list elements'''\n",
        "\n",
        "str_list = [\"1\", \"2\", \"3\"]\n",
        "int_list = [int(x) for x in str_list]\n",
        "\n",
        "print(\"Original strings:\", str_list)\n",
        "print(\"Converted to integers:\", int_list)"
      ],
      "metadata": {
        "colab": {
          "base_uri": "https://localhost:8080/"
        },
        "id": "tsBWjTCDB-8b",
        "outputId": "4b5b3587-6642-4d90-fd0f-a6da9e6f1384"
      },
      "execution_count": 13,
      "outputs": [
        {
          "output_type": "stream",
          "name": "stdout",
          "text": [
            "Original strings: ['1', '2', '3']\n",
            "Converted to integers: [1, 2, 3]\n"
          ]
        }
      ]
    },
    {
      "cell_type": "code",
      "source": [
        "'''ques 11. Write a program that checks if a number is positive, negative, or zero.'''\n",
        "\n",
        "num = float(input(\"Enter a number: \"))\n",
        "\n",
        "if num > 0:\n",
        "    print(\"Positive\")\n",
        "elif num < 0:\n",
        "    print(\"Negative\")\n",
        "else:\n",
        "    print(\"Zero\")"
      ],
      "metadata": {
        "colab": {
          "base_uri": "https://localhost:8080/"
        },
        "id": "UMijmZgsCVwV",
        "outputId": "9ec0a465-e96c-4b7a-aef5-8f7837533d69"
      },
      "execution_count": 14,
      "outputs": [
        {
          "output_type": "stream",
          "name": "stdout",
          "text": [
            "Enter a number: 8\n",
            "Positive\n"
          ]
        }
      ]
    },
    {
      "cell_type": "code",
      "source": [
        "'''ques 12. Write a for loop to print numbers from 1 to 10'''\n",
        "\n",
        "for i in range(1, 11):\n",
        "    print(i)"
      ],
      "metadata": {
        "colab": {
          "base_uri": "https://localhost:8080/"
        },
        "id": "Woppsp_kC3lx",
        "outputId": "aa575a01-e33a-4452-f8ea-43ada5e69624"
      },
      "execution_count": 15,
      "outputs": [
        {
          "output_type": "stream",
          "name": "stdout",
          "text": [
            "1\n",
            "2\n",
            "3\n",
            "4\n",
            "5\n",
            "6\n",
            "7\n",
            "8\n",
            "9\n",
            "10\n"
          ]
        }
      ]
    },
    {
      "cell_type": "code",
      "source": [
        "'''ques 13. Write a Python program to find the sum of all even numbers between 1 and 50'''\n",
        "\n",
        "even_sum = 0\n",
        "for i in range(2, 51, 2):\n",
        "    even_sum += i\n",
        "print(\"Sum of even numbers from 1 to 50:\", even_sum)"
      ],
      "metadata": {
        "colab": {
          "base_uri": "https://localhost:8080/"
        },
        "id": "CYlRDbByDGco",
        "outputId": "1a4811ef-0ef9-483d-c30e-f914b4627faf"
      },
      "execution_count": 16,
      "outputs": [
        {
          "output_type": "stream",
          "name": "stdout",
          "text": [
            "Sum of even numbers from 1 to 50: 650\n"
          ]
        }
      ]
    },
    {
      "cell_type": "code",
      "source": [
        "'''ques 14. Write a program to reverse a string using a while loop'''\n",
        "\n",
        "s = input(\"Enter a string: \")\n",
        "reversed_str = \"\"\n",
        "i = len(s) - 1\n",
        "\n",
        "while i >= 0:\n",
        "    reversed_str += s[i]\n",
        "    i -= 1\n",
        "\n",
        "print(\"Reversed string:\", reversed_str)"
      ],
      "metadata": {
        "colab": {
          "base_uri": "https://localhost:8080/"
        },
        "id": "JbYAn-QhDRtJ",
        "outputId": "3943ee6a-8092-42e8-c547-2f051a98c5f7"
      },
      "execution_count": 17,
      "outputs": [
        {
          "output_type": "stream",
          "name": "stdout",
          "text": [
            "Enter a string: hello\n",
            "Reversed string: olleh\n"
          ]
        }
      ]
    },
    {
      "cell_type": "code",
      "source": [
        "'''ques 15. Write a Python program to calculate the factorial of a number provided by the user using a while loop'''\n",
        "\n",
        "num = int(input(\"Enter a number: \"))\n",
        "factorial = 1\n",
        "i = 1\n",
        "\n",
        "while i <= num:\n",
        "    factorial *= i\n",
        "    i += 1\n",
        "\n",
        "print(\"Factorial:\", factorial)"
      ],
      "metadata": {
        "colab": {
          "base_uri": "https://localhost:8080/"
        },
        "id": "XcasIZ8oD_xb",
        "outputId": "5fd9fa26-1452-44f0-ac4c-5bf598309d44"
      },
      "execution_count": 18,
      "outputs": [
        {
          "output_type": "stream",
          "name": "stdout",
          "text": [
            "Enter a number: 9\n",
            "Factorial: 362880\n"
          ]
        }
      ]
    },
    {
      "cell_type": "code",
      "source": [],
      "metadata": {
        "id": "9vhMmE8pEaz6"
      },
      "execution_count": null,
      "outputs": []
    }
  ]
}